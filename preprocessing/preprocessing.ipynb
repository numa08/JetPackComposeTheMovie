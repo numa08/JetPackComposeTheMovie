{
 "metadata": {
  "language_info": {
   "codemirror_mode": {
    "name": "ipython",
    "version": 3
   },
   "file_extension": ".py",
   "mimetype": "text/x-python",
   "name": "python",
   "nbconvert_exporter": "python",
   "pygments_lexer": "ipython3",
   "version": "3.9.5"
  },
  "orig_nbformat": 4,
  "kernelspec": {
   "name": "python3",
   "display_name": "Python 3.9.5 64-bit"
  },
  "interpreter": {
   "hash": "aee8b7b246df8f9039afb4144a1f6fd8d2ca17a180786b69acc140d282b71a49"
  }
 },
 "nbformat": 4,
 "nbformat_minor": 2,
 "cells": [
  {
   "cell_type": "code",
   "execution_count": 7,
   "metadata": {},
   "outputs": [],
   "source": [
    "titleType = 'movie'\n",
    "titleDataset = './dataset/title.basics.tsv'\n",
    "titleAkaDataset = './dataset/title.akas.tsv'"
   ]
  },
  {
   "cell_type": "code",
   "execution_count": 9,
   "metadata": {},
   "outputs": [],
   "source": [
    "import pandas as pd\n",
    "import numpy as np"
   ]
  },
  {
   "cell_type": "code",
   "execution_count": 155,
   "metadata": {},
   "outputs": [
    {
     "output_type": "stream",
     "name": "stderr",
     "text": [
      "/usr/local/lib/python3.9/site-packages/IPython/core/interactiveshell.py:3441: DtypeWarning: Columns (4,5) have mixed types.Specify dtype option on import or set low_memory=False.\n  exec(code_obj, self.user_global_ns, self.user_ns)\n"
     ]
    },
    {
     "output_type": "execute_result",
     "data": {
      "text/plain": [
       "            tconst  titleType               primaryTitle  \\\n",
       "0        tt0000001      short                 Carmencita   \n",
       "1        tt0000002      short     Le clown et ses chiens   \n",
       "2        tt0000003      short             Pauvre Pierrot   \n",
       "3        tt0000004      short                Un bon bock   \n",
       "4        tt0000005      short           Blacksmith Scene   \n",
       "...            ...        ...                        ...   \n",
       "8149918  tt9916848  tvEpisode              Episode #3.17   \n",
       "8149919  tt9916850  tvEpisode              Episode #3.19   \n",
       "8149920  tt9916852  tvEpisode              Episode #3.20   \n",
       "8149921  tt9916856      short                   The Wind   \n",
       "8149922  tt9916880  tvEpisode  Horrid Henry Knows It All   \n",
       "\n",
       "                     originalTitle isAdult startYear endYear runtimeMinutes  \\\n",
       "0                       Carmencita       0      1894      \\N              1   \n",
       "1           Le clown et ses chiens       0      1892      \\N              5   \n",
       "2                   Pauvre Pierrot       0      1892      \\N              4   \n",
       "3                      Un bon bock       0      1892      \\N             12   \n",
       "4                 Blacksmith Scene       0      1893      \\N              1   \n",
       "...                            ...     ...       ...     ...            ...   \n",
       "8149918              Episode #3.17       0      2010      \\N             \\N   \n",
       "8149919              Episode #3.19       0      2010      \\N             \\N   \n",
       "8149920              Episode #3.20       0      2010      \\N             \\N   \n",
       "8149921                   The Wind       0      2015      \\N             27   \n",
       "8149922  Horrid Henry Knows It All       0      2014      \\N             10   \n",
       "\n",
       "                           genres  \n",
       "0               Documentary,Short  \n",
       "1                 Animation,Short  \n",
       "2        Animation,Comedy,Romance  \n",
       "3                 Animation,Short  \n",
       "4                    Comedy,Short  \n",
       "...                           ...  \n",
       "8149918       Action,Drama,Family  \n",
       "8149919       Action,Drama,Family  \n",
       "8149920       Action,Drama,Family  \n",
       "8149921                     Short  \n",
       "8149922   Animation,Comedy,Family  \n",
       "\n",
       "[8149923 rows x 9 columns]"
      ],
      "text/html": "<div>\n<style scoped>\n    .dataframe tbody tr th:only-of-type {\n        vertical-align: middle;\n    }\n\n    .dataframe tbody tr th {\n        vertical-align: top;\n    }\n\n    .dataframe thead th {\n        text-align: right;\n    }\n</style>\n<table border=\"1\" class=\"dataframe\">\n  <thead>\n    <tr style=\"text-align: right;\">\n      <th></th>\n      <th>tconst</th>\n      <th>titleType</th>\n      <th>primaryTitle</th>\n      <th>originalTitle</th>\n      <th>isAdult</th>\n      <th>startYear</th>\n      <th>endYear</th>\n      <th>runtimeMinutes</th>\n      <th>genres</th>\n    </tr>\n  </thead>\n  <tbody>\n    <tr>\n      <th>0</th>\n      <td>tt0000001</td>\n      <td>short</td>\n      <td>Carmencita</td>\n      <td>Carmencita</td>\n      <td>0</td>\n      <td>1894</td>\n      <td>\\N</td>\n      <td>1</td>\n      <td>Documentary,Short</td>\n    </tr>\n    <tr>\n      <th>1</th>\n      <td>tt0000002</td>\n      <td>short</td>\n      <td>Le clown et ses chiens</td>\n      <td>Le clown et ses chiens</td>\n      <td>0</td>\n      <td>1892</td>\n      <td>\\N</td>\n      <td>5</td>\n      <td>Animation,Short</td>\n    </tr>\n    <tr>\n      <th>2</th>\n      <td>tt0000003</td>\n      <td>short</td>\n      <td>Pauvre Pierrot</td>\n      <td>Pauvre Pierrot</td>\n      <td>0</td>\n      <td>1892</td>\n      <td>\\N</td>\n      <td>4</td>\n      <td>Animation,Comedy,Romance</td>\n    </tr>\n    <tr>\n      <th>3</th>\n      <td>tt0000004</td>\n      <td>short</td>\n      <td>Un bon bock</td>\n      <td>Un bon bock</td>\n      <td>0</td>\n      <td>1892</td>\n      <td>\\N</td>\n      <td>12</td>\n      <td>Animation,Short</td>\n    </tr>\n    <tr>\n      <th>4</th>\n      <td>tt0000005</td>\n      <td>short</td>\n      <td>Blacksmith Scene</td>\n      <td>Blacksmith Scene</td>\n      <td>0</td>\n      <td>1893</td>\n      <td>\\N</td>\n      <td>1</td>\n      <td>Comedy,Short</td>\n    </tr>\n    <tr>\n      <th>...</th>\n      <td>...</td>\n      <td>...</td>\n      <td>...</td>\n      <td>...</td>\n      <td>...</td>\n      <td>...</td>\n      <td>...</td>\n      <td>...</td>\n      <td>...</td>\n    </tr>\n    <tr>\n      <th>8149918</th>\n      <td>tt9916848</td>\n      <td>tvEpisode</td>\n      <td>Episode #3.17</td>\n      <td>Episode #3.17</td>\n      <td>0</td>\n      <td>2010</td>\n      <td>\\N</td>\n      <td>\\N</td>\n      <td>Action,Drama,Family</td>\n    </tr>\n    <tr>\n      <th>8149919</th>\n      <td>tt9916850</td>\n      <td>tvEpisode</td>\n      <td>Episode #3.19</td>\n      <td>Episode #3.19</td>\n      <td>0</td>\n      <td>2010</td>\n      <td>\\N</td>\n      <td>\\N</td>\n      <td>Action,Drama,Family</td>\n    </tr>\n    <tr>\n      <th>8149920</th>\n      <td>tt9916852</td>\n      <td>tvEpisode</td>\n      <td>Episode #3.20</td>\n      <td>Episode #3.20</td>\n      <td>0</td>\n      <td>2010</td>\n      <td>\\N</td>\n      <td>\\N</td>\n      <td>Action,Drama,Family</td>\n    </tr>\n    <tr>\n      <th>8149921</th>\n      <td>tt9916856</td>\n      <td>short</td>\n      <td>The Wind</td>\n      <td>The Wind</td>\n      <td>0</td>\n      <td>2015</td>\n      <td>\\N</td>\n      <td>27</td>\n      <td>Short</td>\n    </tr>\n    <tr>\n      <th>8149922</th>\n      <td>tt9916880</td>\n      <td>tvEpisode</td>\n      <td>Horrid Henry Knows It All</td>\n      <td>Horrid Henry Knows It All</td>\n      <td>0</td>\n      <td>2014</td>\n      <td>\\N</td>\n      <td>10</td>\n      <td>Animation,Comedy,Family</td>\n    </tr>\n  </tbody>\n</table>\n<p>8149923 rows × 9 columns</p>\n</div>"
     },
     "metadata": {},
     "execution_count": 155
    }
   ],
   "source": [
    "titleDataFrame = pd.read_table(titleDataset)\n",
    "titleDataFrame"
   ]
  },
  {
   "cell_type": "code",
   "execution_count": 156,
   "metadata": {},
   "outputs": [
    {
     "output_type": "execute_result",
     "data": {
      "text/plain": [
       "tconst                                                   tt10233364\n",
       "titleType                                                 tvEpisode\n",
       "primaryTitle      Rolling in the Deep Dish\\tRolling in the Deep ...\n",
       "originalTitle                                                     0\n",
       "isAdult                                                        2019\n",
       "startYear                                                        \\N\n",
       "endYear                                                          \\N\n",
       "runtimeMinutes                                           Reality-TV\n",
       "genres                                                          NaN\n",
       "Name: 1101527, dtype: object"
      ]
     },
     "metadata": {},
     "execution_count": 156
    }
   ],
   "source": [
    "titleDataFrame.loc[1101527, 'tconst':]"
   ]
  },
  {
   "cell_type": "code",
   "execution_count": 211,
   "metadata": {},
   "outputs": [],
   "source": [
    "# isAdult以降のデータがずれている物があるので、手直し\n",
    "titleDataFrame.loc[1101527, 'isAdult':] = [0 ,2019, '\\\\N', '\\\\N', 'Reality-TV']\n",
    "titleDataFrame.at[1101527, 'originalTitle'] = titleDataFrame.at[1101527, 'primaryTitle']\n",
    "titleDataFrame.loc[1522836, 'isAdult':] = [0, 2019, '\\\\N', '\\\\N', '\\\\N']\n",
    "titleDataFrame.at[1522836, 'originalTitle'] = titleDataFrame.at[1522836, 'primaryTitle']\n",
    "titleDataFrame.loc[1920329, 'isAdult':] = [0, 1981, '\\\\N', '\\\\N', 'Documentary']\n",
    "titleDataFrame.at[1920329, 'originalTitle'] = titleDataFrame.at[1920329, 'primaryTitle']\n",
    "titleDataFrame.loc[2034016, 'isAdult':] = [0, 2020, '\\\\N', '\\\\N', 'Talk-Show']\n",
    "titleDataFrame.at[2034016, 'originalTitle'] = titleDataFrame.at[2034016, 'primaryTitle']\n",
    "titleDataFrame.loc[2194165, 'isAdult':] = [0, 2020, '\\\\N', '\\\\N', 'Game-Show']\n",
    "titleDataFrame.at[2194165, 'originalTitle'] = titleDataFrame.at[2194165, 'primaryTitle']\n",
    "titleDataFrame.loc[2344801, 'isAdult':] = [0, 2017, '\\\\N', '\\\\N', 'Reality-TV']\n",
    "titleDataFrame.at[2344801, 'originalTitle'] = titleDataFrame.at[2344801, 'primaryTitle']\n",
    "titleDataFrame.loc[3079897, 'isAdult':] = [0, '\\\\N', '\\\\N', '\\\\N', 'Animation,Comedy,Family']\n",
    "titleDataFrame.at[3079897, 'originalTitle'] = titleDataFrame.at[3079897, 'primaryTitle']\n",
    "titleDataFrame.loc[5427437, 'isAdult':] = [0, 2014, '\\\\N', '\\\\N', 'Reality-TV']\n",
    "titleDataFrame.at[5427437, 'originalTitle'] = titleDataFrame.at[5427437, 'primaryTitle']\n",
    "titleDataFrame.loc[8105169, 'isAdult':] = [0, 2019, '\\\\N', '\\\\N', '\\\\N']\n",
    "titleDataFrame.at[8105169, 'originalTitle'] = titleDataFrame.at[8105169, 'primaryTitle']\n",
    "titleDataFrame.loc[8146263, 'isAdult':] = [0, 2005, '\\\\N', '\\\\N', '\\\\N']\n",
    "titleDataFrame.at[8146263, 'originalTitle'] = titleDataFrame.at[8146263, 'primaryTitle']"
   ]
  },
  {
   "cell_type": "code",
   "execution_count": 198,
   "metadata": {},
   "outputs": [
    {
     "output_type": "execute_result",
     "data": {
      "text/plain": [
       "tconst                                                   tt13704268\n",
       "titleType                                                 tvEpisode\n",
       "primaryTitle      Bay of the Triffids/Doctor of Doom\\tBay of the...\n",
       "originalTitle                                                     0\n",
       "isAdult                                                          \\N\n",
       "startYear                                                        \\N\n",
       "endYear                                                          \\N\n",
       "runtimeMinutes                              Animation,Comedy,Family\n",
       "genres                                                          NaN\n",
       "Name: 3079897, dtype: object"
      ]
     },
     "metadata": {},
     "execution_count": 198
    }
   ],
   "source": [
    "titleDataFrame.loc[3079897, :]"
   ]
  },
  {
   "cell_type": "code",
   "execution_count": 210,
   "metadata": {},
   "outputs": [
    {
     "output_type": "execute_result",
     "data": {
      "text/plain": [
       "            tconst  titleType  \\\n",
       "8146263  tt9909210  tvEpisode   \n",
       "\n",
       "                                              primaryTitle originalTitle  \\\n",
       "8146263  Politik und/oder Moral - Wie weit geht das Ver...             0   \n",
       "\n",
       "        isAdult startYear endYear runtimeMinutes genres  \n",
       "8146263    2005        \\N      \\N             \\N    NaN  "
      ],
      "text/html": "<div>\n<style scoped>\n    .dataframe tbody tr th:only-of-type {\n        vertical-align: middle;\n    }\n\n    .dataframe tbody tr th {\n        vertical-align: top;\n    }\n\n    .dataframe thead th {\n        text-align: right;\n    }\n</style>\n<table border=\"1\" class=\"dataframe\">\n  <thead>\n    <tr style=\"text-align: right;\">\n      <th></th>\n      <th>tconst</th>\n      <th>titleType</th>\n      <th>primaryTitle</th>\n      <th>originalTitle</th>\n      <th>isAdult</th>\n      <th>startYear</th>\n      <th>endYear</th>\n      <th>runtimeMinutes</th>\n      <th>genres</th>\n    </tr>\n  </thead>\n  <tbody>\n    <tr>\n      <th>8146263</th>\n      <td>tt9909210</td>\n      <td>tvEpisode</td>\n      <td>Politik und/oder Moral - Wie weit geht das Ver...</td>\n      <td>0</td>\n      <td>2005</td>\n      <td>\\N</td>\n      <td>\\N</td>\n      <td>\\N</td>\n      <td>NaN</td>\n    </tr>\n  </tbody>\n</table>\n</div>"
     },
     "metadata": {},
     "execution_count": 210
    }
   ],
   "source": [
    "titleDataFrame[titleDataFrame['tconst'] == 'tt9909210']"
   ]
  },
  {
   "cell_type": "code",
   "execution_count": 165,
   "metadata": {},
   "outputs": [
    {
     "output_type": "execute_result",
     "data": {
      "text/plain": [
       "tconst                                                   tt10233364\n",
       "titleType                                                 tvEpisode\n",
       "primaryTitle      Rolling in the Deep Dish\\tRolling in the Deep ...\n",
       "originalTitle     Rolling in the Deep Dish\\tRolling in the Deep ...\n",
       "isAdult                                                           0\n",
       "startYear                                                      2019\n",
       "endYear                                                          \\N\n",
       "runtimeMinutes                                                   \\N\n",
       "genres                                                   Reality-TV\n",
       "Name: 1101527, dtype: object"
      ]
     },
     "metadata": {},
     "execution_count": 165
    }
   ],
   "source": [
    "titleDataFrame.loc[1101527, 'tconst':]"
   ]
  },
  {
   "cell_type": "code",
   "execution_count": null,
   "metadata": {},
   "outputs": [],
   "source": [
    "titleAkasDataFrame = pd.read_table(titleAkaDataset)\n",
    "titleAkasDataFrame"
   ]
  },
  {
   "cell_type": "code",
   "execution_count": 13,
   "metadata": {},
   "outputs": [
    {
     "output_type": "execute_result",
     "data": {
      "text/plain": [
       "0                 Documentary,Short\n",
       "1                   Animation,Short\n",
       "2          Animation,Comedy,Romance\n",
       "3                   Animation,Short\n",
       "4                      Comedy,Short\n",
       "                     ...           \n",
       "8149918         Action,Drama,Family\n",
       "8149919         Action,Drama,Family\n",
       "8149920         Action,Drama,Family\n",
       "8149921                       Short\n",
       "8149922     Animation,Comedy,Family\n",
       "Name: genres, Length: 8149923, dtype: object"
      ]
     },
     "metadata": {},
     "execution_count": 13
    }
   ],
   "source": [
    "titleDataFrame['genres']"
   ]
  },
  {
   "cell_type": "code",
   "execution_count": 24,
   "metadata": {},
   "outputs": [
    {
     "output_type": "execute_result",
     "data": {
      "text/plain": [
       "{'Action',\n",
       " 'Adult',\n",
       " 'Adventure',\n",
       " 'Animation',\n",
       " 'Biography',\n",
       " 'Comedy',\n",
       " 'Crime',\n",
       " 'Documentary',\n",
       " 'Drama',\n",
       " 'Family',\n",
       " 'Fantasy',\n",
       " 'Film-Noir',\n",
       " 'Game-Show',\n",
       " 'History',\n",
       " 'Horror',\n",
       " 'Music',\n",
       " 'Musical',\n",
       " 'Mystery',\n",
       " 'News',\n",
       " 'Reality-TV',\n",
       " 'Romance',\n",
       " 'Sci-Fi',\n",
       " 'Short',\n",
       " 'Sport',\n",
       " 'Talk-Show',\n",
       " 'Thriller',\n",
       " 'War',\n",
       " 'Western'}"
      ]
     },
     "metadata": {},
     "execution_count": 24
    }
   ],
   "source": [
    "# ユニークなジャンルマスタを作る\n",
    "allGenreSet = set()\n",
    "def split_genres(ga):\n",
    "    try:\n",
    "        for g in ga.split(','):\n",
    "            allGenreSet.add(g)\n",
    "    except:\n",
    "        print(ga)\n",
    "titleDataFrame['genres'].dropna(how='all').map(split_genres)\n",
    "allGenreSet.remove('\\\\N')\n",
    "allGenreSet"
   ]
  },
  {
   "cell_type": "code",
   "execution_count": 26,
   "metadata": {},
   "outputs": [],
   "source": [
    "import sqlite3"
   ]
  },
  {
   "cell_type": "code",
   "execution_count": 27,
   "metadata": {},
   "outputs": [],
   "source": [
    "dbConnection = sqlite3.connect(\"movie.db\")"
   ]
  },
  {
   "cell_type": "code",
   "execution_count": 40,
   "metadata": {},
   "outputs": [
    {
     "output_type": "stream",
     "name": "stdout",
     "text": [
      "INSERT INTO genre_master(genre) VALUES ('Documentary')\nINSERT INTO genre_master(genre) VALUES ('Fantasy')\nINSERT INTO genre_master(genre) VALUES ('Music')\nINSERT INTO genre_master(genre) VALUES ('Romance')\nINSERT INTO genre_master(genre) VALUES ('Game-Show')\nINSERT INTO genre_master(genre) VALUES ('Western')\nINSERT INTO genre_master(genre) VALUES ('Horror')\nINSERT INTO genre_master(genre) VALUES ('Reality-TV')\nINSERT INTO genre_master(genre) VALUES ('Crime')\nINSERT INTO genre_master(genre) VALUES ('Adventure')\nINSERT INTO genre_master(genre) VALUES ('Thriller')\nINSERT INTO genre_master(genre) VALUES ('Sport')\nINSERT INTO genre_master(genre) VALUES ('Animation')\nINSERT INTO genre_master(genre) VALUES ('Short')\nINSERT INTO genre_master(genre) VALUES ('History')\nINSERT INTO genre_master(genre) VALUES ('Adult')\nINSERT INTO genre_master(genre) VALUES ('Talk-Show')\nINSERT INTO genre_master(genre) VALUES ('Sci-Fi')\nINSERT INTO genre_master(genre) VALUES ('News')\nINSERT INTO genre_master(genre) VALUES ('Biography')\nINSERT INTO genre_master(genre) VALUES ('Family')\nINSERT INTO genre_master(genre) VALUES ('Action')\nINSERT INTO genre_master(genre) VALUES ('Mystery')\nINSERT INTO genre_master(genre) VALUES ('War')\nINSERT INTO genre_master(genre) VALUES ('Drama')\nINSERT INTO genre_master(genre) VALUES ('Film-Noir')\nINSERT INTO genre_master(genre) VALUES ('Comedy')\nINSERT INTO genre_master(genre) VALUES ('Musical')\n"
     ]
    }
   ],
   "source": [
    "for genre in allGenreSet:\n",
    "    print(f\"INSERT INTO genre_master(genre) VALUES ('{genre}')\")\n",
    "    dbConnection.execute(f\"INSERT INTO genre_master(genre) VALUES ('{genre}')\")"
   ]
  },
  {
   "cell_type": "code",
   "execution_count": 41,
   "metadata": {},
   "outputs": [],
   "source": [
    "dbConnection.commit()"
   ]
  },
  {
   "cell_type": "code",
   "execution_count": 45,
   "metadata": {},
   "outputs": [
    {
     "output_type": "execute_result",
     "data": {
      "text/plain": [
       "            tconst titleType  \\\n",
       "498      tt0000502     movie   \n",
       "570      tt0000574     movie   \n",
       "587      tt0000591     movie   \n",
       "610      tt0000615     movie   \n",
       "625      tt0000630     movie   \n",
       "...            ...       ...   \n",
       "8149812  tt9916622     movie   \n",
       "8149839  tt9916680     movie   \n",
       "8149851  tt9916706     movie   \n",
       "8149862  tt9916730     movie   \n",
       "8149873  tt9916754     movie   \n",
       "\n",
       "                                              primaryTitle  \\\n",
       "498                                               Bohemios   \n",
       "570                            The Story of the Kelly Gang   \n",
       "587                                       The Prodigal Son   \n",
       "610                                     Robbery Under Arms   \n",
       "625                                                 Hamlet   \n",
       "...                                                    ...   \n",
       "8149812        Rodolpho Teóphilo - O Legado de um Pioneiro   \n",
       "8149839  De la ilusión al desconcierto: cine colombiano...   \n",
       "8149851                                    Dankyavar Danka   \n",
       "8149862                                             6 Gunn   \n",
       "8149873                     Chico Albuquerque - Revelações   \n",
       "\n",
       "                                             originalTitle isAdult startYear  \\\n",
       "498                                               Bohemios       0      1905   \n",
       "570                            The Story of the Kelly Gang       0      1906   \n",
       "587                                      L'enfant prodigue       0      1907   \n",
       "610                                     Robbery Under Arms       0      1907   \n",
       "625                                                 Amleto       0      1908   \n",
       "...                                                    ...     ...       ...   \n",
       "8149812        Rodolpho Teóphilo - O Legado de um Pioneiro       0      2015   \n",
       "8149839  De la ilusión al desconcierto: cine colombiano...       0      2007   \n",
       "8149851                                    Dankyavar Danka       0      2013   \n",
       "8149862                                             6 Gunn       0      2017   \n",
       "8149873                     Chico Albuquerque - Revelações       0      2013   \n",
       "\n",
       "        endYear runtimeMinutes                      genres  \n",
       "498          \\N            100                          \\N  \n",
       "570          \\N             70  Action,Adventure,Biography  \n",
       "587          \\N             90                       Drama  \n",
       "610          \\N             \\N                       Drama  \n",
       "625          \\N             \\N                       Drama  \n",
       "...         ...            ...                         ...  \n",
       "8149812      \\N             57                 Documentary  \n",
       "8149839      \\N            100                 Documentary  \n",
       "8149851      \\N             \\N                      Comedy  \n",
       "8149862      \\N            116                          \\N  \n",
       "8149873      \\N             49                 Documentary  \n",
       "\n",
       "[584442 rows x 9 columns]"
      ],
      "text/html": "<div>\n<style scoped>\n    .dataframe tbody tr th:only-of-type {\n        vertical-align: middle;\n    }\n\n    .dataframe tbody tr th {\n        vertical-align: top;\n    }\n\n    .dataframe thead th {\n        text-align: right;\n    }\n</style>\n<table border=\"1\" class=\"dataframe\">\n  <thead>\n    <tr style=\"text-align: right;\">\n      <th></th>\n      <th>tconst</th>\n      <th>titleType</th>\n      <th>primaryTitle</th>\n      <th>originalTitle</th>\n      <th>isAdult</th>\n      <th>startYear</th>\n      <th>endYear</th>\n      <th>runtimeMinutes</th>\n      <th>genres</th>\n    </tr>\n  </thead>\n  <tbody>\n    <tr>\n      <th>498</th>\n      <td>tt0000502</td>\n      <td>movie</td>\n      <td>Bohemios</td>\n      <td>Bohemios</td>\n      <td>0</td>\n      <td>1905</td>\n      <td>\\N</td>\n      <td>100</td>\n      <td>\\N</td>\n    </tr>\n    <tr>\n      <th>570</th>\n      <td>tt0000574</td>\n      <td>movie</td>\n      <td>The Story of the Kelly Gang</td>\n      <td>The Story of the Kelly Gang</td>\n      <td>0</td>\n      <td>1906</td>\n      <td>\\N</td>\n      <td>70</td>\n      <td>Action,Adventure,Biography</td>\n    </tr>\n    <tr>\n      <th>587</th>\n      <td>tt0000591</td>\n      <td>movie</td>\n      <td>The Prodigal Son</td>\n      <td>L'enfant prodigue</td>\n      <td>0</td>\n      <td>1907</td>\n      <td>\\N</td>\n      <td>90</td>\n      <td>Drama</td>\n    </tr>\n    <tr>\n      <th>610</th>\n      <td>tt0000615</td>\n      <td>movie</td>\n      <td>Robbery Under Arms</td>\n      <td>Robbery Under Arms</td>\n      <td>0</td>\n      <td>1907</td>\n      <td>\\N</td>\n      <td>\\N</td>\n      <td>Drama</td>\n    </tr>\n    <tr>\n      <th>625</th>\n      <td>tt0000630</td>\n      <td>movie</td>\n      <td>Hamlet</td>\n      <td>Amleto</td>\n      <td>0</td>\n      <td>1908</td>\n      <td>\\N</td>\n      <td>\\N</td>\n      <td>Drama</td>\n    </tr>\n    <tr>\n      <th>...</th>\n      <td>...</td>\n      <td>...</td>\n      <td>...</td>\n      <td>...</td>\n      <td>...</td>\n      <td>...</td>\n      <td>...</td>\n      <td>...</td>\n      <td>...</td>\n    </tr>\n    <tr>\n      <th>8149812</th>\n      <td>tt9916622</td>\n      <td>movie</td>\n      <td>Rodolpho Teóphilo - O Legado de um Pioneiro</td>\n      <td>Rodolpho Teóphilo - O Legado de um Pioneiro</td>\n      <td>0</td>\n      <td>2015</td>\n      <td>\\N</td>\n      <td>57</td>\n      <td>Documentary</td>\n    </tr>\n    <tr>\n      <th>8149839</th>\n      <td>tt9916680</td>\n      <td>movie</td>\n      <td>De la ilusión al desconcierto: cine colombiano...</td>\n      <td>De la ilusión al desconcierto: cine colombiano...</td>\n      <td>0</td>\n      <td>2007</td>\n      <td>\\N</td>\n      <td>100</td>\n      <td>Documentary</td>\n    </tr>\n    <tr>\n      <th>8149851</th>\n      <td>tt9916706</td>\n      <td>movie</td>\n      <td>Dankyavar Danka</td>\n      <td>Dankyavar Danka</td>\n      <td>0</td>\n      <td>2013</td>\n      <td>\\N</td>\n      <td>\\N</td>\n      <td>Comedy</td>\n    </tr>\n    <tr>\n      <th>8149862</th>\n      <td>tt9916730</td>\n      <td>movie</td>\n      <td>6 Gunn</td>\n      <td>6 Gunn</td>\n      <td>0</td>\n      <td>2017</td>\n      <td>\\N</td>\n      <td>116</td>\n      <td>\\N</td>\n    </tr>\n    <tr>\n      <th>8149873</th>\n      <td>tt9916754</td>\n      <td>movie</td>\n      <td>Chico Albuquerque - Revelações</td>\n      <td>Chico Albuquerque - Revelações</td>\n      <td>0</td>\n      <td>2013</td>\n      <td>\\N</td>\n      <td>49</td>\n      <td>Documentary</td>\n    </tr>\n  </tbody>\n</table>\n<p>584442 rows × 9 columns</p>\n</div>"
     },
     "metadata": {},
     "execution_count": 45
    }
   ],
   "source": [
    "movieTitleDataFrame = titleDataFrame[titleDataFrame['titleType'] == 'movie']\n",
    "movieTitleDataFrame"
   ]
  },
  {
   "cell_type": "code",
   "execution_count": 224,
   "metadata": {},
   "outputs": [],
   "source": [
    "def strOrNull(value):\n",
    "    if value == r'\\N':\n",
    "        return \"NULL\"\n",
    "    else:\n",
    "        return f'\"{value}\"'\n",
    "def intOrNull(value):\n",
    "    if value == r'\\N':\n",
    "        return 'NULL'\n",
    "    else:\n",
    "        return f'{value}'\n",
    "def boolOrFalse(value):\n",
    "    if value == r'\\N':\n",
    "        return 0\n",
    "    else:\n",
    "        return value"
   ]
  },
  {
   "cell_type": "code",
   "execution_count": 213,
   "metadata": {
    "tags": []
   },
   "outputs": [],
   "source": [
    "# CREATE TABLE \"title\" (\n",
    "# \t\"tconst\"\tTEXT NOT NULL UNIQUE,\n",
    "# \t\"primaryTitle\"\tTEXT,\n",
    "# \t\"originalTitle\"\tTEXT,\n",
    "# \t\"isAdult\"\tINTEGER CHECK(\"isAdult\" = 0 OR \"isAdult\" = 1),\n",
    "# \t\"startYear\"\tINTEGER,\n",
    "# \t\"endYear\"\tINTEGER,\n",
    "# \t\"runtimeMinutes\"\tINTEGER,\n",
    "# \t\"titleType\"\tTEXT,\n",
    "# \tPRIMARY KEY(\"tconst\")\n",
    "# )\n",
    "\n",
    "for title in titleDataFrame.itertuples():\n",
    "    query = u'''INSERT INTO title(tconst, primaryTitle, originalTitle, isAdult, startYear, endYear, runtimeMinutes, titleType) VALUES(?, ?, ?, ?, ?, ?, ?, ?)'''\n",
    "    values = (title.tconst, strOrNull(title.primaryTitle), strOrNull(title.originalTitle), int(title.isAdult), intOrNull(title.startYear), intOrNull(title.endYear), intOrNull(title.runtimeMinutes), strOrNull(title.titleType))\n",
    "    try:\n",
    "        dbConnection.execute(query, values)\n",
    "    except sqlite3.IntegrityError as e:\n",
    "        print(values)\n",
    "        raise e\n",
    "    "
   ]
  },
  {
   "cell_type": "code",
   "execution_count": 195,
   "metadata": {},
   "outputs": [
    {
     "output_type": "execute_result",
     "data": {
      "text/plain": [
       "('tt13704266',\n",
       " '\"Episode #5.10\"',\n",
       " '\"Episode #5.10\"',\n",
       " 0,\n",
       " '2014',\n",
       " 'NULL',\n",
       " 'NULL',\n",
       " '\"tvEpisode\"')"
      ]
     },
     "metadata": {},
     "execution_count": 195
    }
   ],
   "source": [
    "values"
   ]
  },
  {
   "cell_type": "code",
   "execution_count": 214,
   "metadata": {},
   "outputs": [],
   "source": [
    "# dbConnection.rollback()\n",
    "dbConnection.commit()"
   ]
  },
  {
   "cell_type": "code",
   "execution_count": 225,
   "metadata": {},
   "outputs": [],
   "source": [
    "# CREATE TABLE \"title_aka\" (\n",
    "# \t\"titleId\"\tTEXT NOT NULL,\n",
    "# \t\"title\"\tTEXT,\n",
    "# \t\"region\"\tTEXT,\n",
    "# \t\"language\"\tTEXT,\n",
    "# \t\"isOriginalTitle\"\tINTEGER CHECK(\"isOriginalTitle\" = 0 OR \"isOriginalTitle\" = 1),\n",
    "# \tFOREIGN KEY(\"titleId\") REFERENCES \"title\"(\"tconst\")\n",
    "# )\n",
    "for title in titleAkasDataFrame.itertuples():\n",
    "    query = u'''INSERT INTO title_aka(titleId, title, region, language, isOriginalTitle) VALUES(?, ?, ?, ?, ?)'''\n",
    "    values = (title.titleId, strOrNull(title.title), strOrNull(title.region), strOrNull(title.language), boolOrFalse(title.isOriginalTitle))\n",
    "    try:\n",
    "        dbConnection.execute(query, values)\n",
    "    except (*qlite3.IntegrityError, ValueError) as e:\n",
    "        print(values)\n",
    "        raise e    "
   ]
  },
  {
   "cell_type": "code",
   "execution_count": null,
   "metadata": {},
   "outputs": [],
   "source": []
  },
  {
   "cell_type": "code",
   "execution_count": 226,
   "metadata": {},
   "outputs": [],
   "source": [
    "dbConnection.commit()"
   ]
  },
  {
   "cell_type": "code",
   "execution_count": 221,
   "metadata": {},
   "outputs": [
    {
     "output_type": "execute_result",
     "data": {
      "text/plain": [
       "            titleId  ordering                     title region language types  \\\n",
       "86658     tt0021006         1  Ja, der Himmel über Wien     AT       \\N    \\N   \n",
       "89412     tt0021453         1              Tapping Toes     US       \\N    \\N   \n",
       "99278     tt0023019         1       Hollywood on Parade     US       \\N    \\N   \n",
       "110494    tt0024677         1             Tom's in Town     US       \\N    \\N   \n",
       "192523    tt0036165         1               Missing Men     US       \\N    \\N   \n",
       "...             ...       ...                       ...    ...      ...   ...   \n",
       "23339354  tt7030654         1               Black Totem     US       \\N    \\N   \n",
       "23411093  tt7074990         1        Nadie está mirando     ES       \\N    \\N   \n",
       "23636261  tt7205684         1             Вечный отпуск     RU       \\N    \\N   \n",
       "23700633  tt7246818         1        Yatim khaneye Iran     IR       \\N    \\N   \n",
       "23700634  tt7246818         2             The Orphanage    XWW       en    \\N   \n",
       "\n",
       "         attributes isOriginalTitle  \n",
       "86658            \\N              \\N  \n",
       "89412            \\N              \\N  \n",
       "99278            \\N              \\N  \n",
       "110494           \\N              \\N  \n",
       "192523           \\N              \\N  \n",
       "...             ...             ...  \n",
       "23339354         \\N              \\N  \n",
       "23411093         \\N              \\N  \n",
       "23636261         \\N              \\N  \n",
       "23700633         \\N              \\N  \n",
       "23700634         \\N              \\N  \n",
       "\n",
       "[2189 rows x 8 columns]"
      ],
      "text/html": "<div>\n<style scoped>\n    .dataframe tbody tr th:only-of-type {\n        vertical-align: middle;\n    }\n\n    .dataframe tbody tr th {\n        vertical-align: top;\n    }\n\n    .dataframe thead th {\n        text-align: right;\n    }\n</style>\n<table border=\"1\" class=\"dataframe\">\n  <thead>\n    <tr style=\"text-align: right;\">\n      <th></th>\n      <th>titleId</th>\n      <th>ordering</th>\n      <th>title</th>\n      <th>region</th>\n      <th>language</th>\n      <th>types</th>\n      <th>attributes</th>\n      <th>isOriginalTitle</th>\n    </tr>\n  </thead>\n  <tbody>\n    <tr>\n      <th>86658</th>\n      <td>tt0021006</td>\n      <td>1</td>\n      <td>Ja, der Himmel über Wien</td>\n      <td>AT</td>\n      <td>\\N</td>\n      <td>\\N</td>\n      <td>\\N</td>\n      <td>\\N</td>\n    </tr>\n    <tr>\n      <th>89412</th>\n      <td>tt0021453</td>\n      <td>1</td>\n      <td>Tapping Toes</td>\n      <td>US</td>\n      <td>\\N</td>\n      <td>\\N</td>\n      <td>\\N</td>\n      <td>\\N</td>\n    </tr>\n    <tr>\n      <th>99278</th>\n      <td>tt0023019</td>\n      <td>1</td>\n      <td>Hollywood on Parade</td>\n      <td>US</td>\n      <td>\\N</td>\n      <td>\\N</td>\n      <td>\\N</td>\n      <td>\\N</td>\n    </tr>\n    <tr>\n      <th>110494</th>\n      <td>tt0024677</td>\n      <td>1</td>\n      <td>Tom's in Town</td>\n      <td>US</td>\n      <td>\\N</td>\n      <td>\\N</td>\n      <td>\\N</td>\n      <td>\\N</td>\n    </tr>\n    <tr>\n      <th>192523</th>\n      <td>tt0036165</td>\n      <td>1</td>\n      <td>Missing Men</td>\n      <td>US</td>\n      <td>\\N</td>\n      <td>\\N</td>\n      <td>\\N</td>\n      <td>\\N</td>\n    </tr>\n    <tr>\n      <th>...</th>\n      <td>...</td>\n      <td>...</td>\n      <td>...</td>\n      <td>...</td>\n      <td>...</td>\n      <td>...</td>\n      <td>...</td>\n      <td>...</td>\n    </tr>\n    <tr>\n      <th>23339354</th>\n      <td>tt7030654</td>\n      <td>1</td>\n      <td>Black Totem</td>\n      <td>US</td>\n      <td>\\N</td>\n      <td>\\N</td>\n      <td>\\N</td>\n      <td>\\N</td>\n    </tr>\n    <tr>\n      <th>23411093</th>\n      <td>tt7074990</td>\n      <td>1</td>\n      <td>Nadie está mirando</td>\n      <td>ES</td>\n      <td>\\N</td>\n      <td>\\N</td>\n      <td>\\N</td>\n      <td>\\N</td>\n    </tr>\n    <tr>\n      <th>23636261</th>\n      <td>tt7205684</td>\n      <td>1</td>\n      <td>Вечный отпуск</td>\n      <td>RU</td>\n      <td>\\N</td>\n      <td>\\N</td>\n      <td>\\N</td>\n      <td>\\N</td>\n    </tr>\n    <tr>\n      <th>23700633</th>\n      <td>tt7246818</td>\n      <td>1</td>\n      <td>Yatim khaneye Iran</td>\n      <td>IR</td>\n      <td>\\N</td>\n      <td>\\N</td>\n      <td>\\N</td>\n      <td>\\N</td>\n    </tr>\n    <tr>\n      <th>23700634</th>\n      <td>tt7246818</td>\n      <td>2</td>\n      <td>The Orphanage</td>\n      <td>XWW</td>\n      <td>en</td>\n      <td>\\N</td>\n      <td>\\N</td>\n      <td>\\N</td>\n    </tr>\n  </tbody>\n</table>\n<p>2189 rows × 8 columns</p>\n</div>"
     },
     "metadata": {},
     "execution_count": 221
    }
   ],
   "source": [
    "titleAkasDataFrame[titleAkasDataFrame['isOriginalTitle'] == '\\\\N']"
   ]
  },
  {
   "cell_type": "code",
   "execution_count": 230,
   "metadata": {},
   "outputs": [],
   "source": [
    "# CREATE TABLE \"title_genre\" (\n",
    "# \t\"titleid\"\tTEXT NOT NULL,\n",
    "# \t\"genreid\"\tINTEGER NOT NULL,\n",
    "# \tFOREIGN KEY(\"titleid\") REFERENCES \"title\"(\"tconst\"),\n",
    "# \tFOREIGN KEY(\"genreid\") REFERENCES \"genre_master\"(\"id\")\n",
    "# )\n",
    "\n",
    "for title in titleDataFrame[titleDataFrame['genres'] != '\\\\N'].itertuples():\n",
    "    for genre in title.genres.split(','):\n",
    "        select = '''SELECT id FROM genre_master WHERE genre = ?'''\n",
    "        select_values = (genre,)\n",
    "        genre_id = dbConnection.execute(select, select_values).fetchone()[0]\n",
    "        insert = '''INSERT INTO title_genre(titleId, genreid) VALUES(?, ?)'''\n",
    "        insert_values = (title.tconst, genre_id)\n",
    "        dbConnection.execute(insert, insert_values)"
   ]
  },
  {
   "cell_type": "code",
   "execution_count": 231,
   "metadata": {},
   "outputs": [],
   "source": [
    "dbConnection.commit()"
   ]
  },
  {
   "cell_type": "code",
   "execution_count": null,
   "metadata": {},
   "outputs": [],
   "source": []
  }
 ]
}